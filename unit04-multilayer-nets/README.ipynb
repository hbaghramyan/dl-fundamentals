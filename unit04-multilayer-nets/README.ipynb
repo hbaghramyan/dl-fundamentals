{
 "cells": [
  {
   "attachments": {},
   "cell_type": "markdown",
   "metadata": {},
   "source": [
    "# Using this Studio"
   ]
  },
  {
   "attachments": {},
   "cell_type": "markdown",
   "metadata": {},
   "source": [
    "You can find the code covered in the Unit 4 videos in the `./code-units` subfolder. I recommend you first watch the videos and then experiment with the code.\n",
    "\n",
    "- [The complete YouTube Playlist](https://www.youtube.com/playlist?list=PLaMu-SDt_RB6KyP_bNaTghy4_Py2X4hq_) with all 21 videos in Unit 4\n",
    "- [Or access the Unit 4 videos on the Lightning website](https://lightning.ai/courses/deep-learning-fundamentals/training-multilayer-neural-networks-overview/), which includes additional quizzes"
   ]
  },
  {
   "attachments": {},
   "cell_type": "markdown",
   "metadata": {},
   "source": [
    "After exploring the code, you may want to try the following exercises in the `./exercises` subfolder. (Solutions to the excercises can be found in the `./solutions` subfolder)."
   ]
  }
 ],
 "metadata": {
  "kernelspec": {
   "display_name": "Python 3",
   "language": "python",
   "name": "python3"
  },
  "language_info": {
   "codemirror_mode": {
    "name": "ipython",
    "version": 3
   },
   "file_extension": ".py",
   "mimetype": "text/x-python",
   "name": "python",
   "nbconvert_exporter": "python",
   "pygments_lexer": "ipython3",
   "version": "3.10.10"
  }
 },
 "nbformat": 4,
 "nbformat_minor": 4
}
